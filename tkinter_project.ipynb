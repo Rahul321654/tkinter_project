{
 "cells": [
  {
   "cell_type": "code",
   "execution_count": 98,
   "id": "17e73fc4-396b-458d-b4dd-1bf66d709bc2",
   "metadata": {},
   "outputs": [],
   "source": [
    "from tkinter import messagebox\n",
    "\n",
    "def sum(event):\n",
    "    a=int(e1.get())\n",
    "    b=int(e2.get())\n",
    "\n",
    "    messagebox.showinfo(\"Result\",str(a+b))\n",
    "    \n",
    "def mul(event):\n",
    "    c=int(e1.get())\n",
    "    d=int(e2.get())\n",
    "        \n",
    "    messagebox.showinfo(\"Result\",str(c*d))\n",
    "        \n",
    "#def B1(event):\n",
    "    b1.configure(bg=\"Brown\")\n",
    "    \n",
    "#def B2(event):\n",
    "    b2.configure(bg=\"Brown\")\n",
    "\n",
    "win=Tk()\n",
    "win.title(\"Tkinter_Project\")\n",
    "#win.resizable(width=False, height=False)\n",
    "win.geometry(\"800x400+200+200\")     # first two 400 is showing width and length of app and 400+400 is showing distance to your window x axis & Y axis.\n",
    "win.configure(bg=\"pink\")\n",
    "\n",
    "e1=Entry(win,font=('Arial',15,'bold'),bd=10,bg=\"green\", fg=\"black\")\n",
    "e1.place(relx=0.5,rely=0.2)\n",
    "\n",
    "e2=Entry(win,font=('Arial',15,'bold'),bd=10,bg=\"green\", fg=\"black\")\n",
    "e2.place(relx=0.5,rely=0.4)\n",
    "\n",
    "l1=Label(text=\"Enter Your First Number: \",font=('Arial',15,'bold'),bd=10,bg=\"pink\", fg=\"black\")\n",
    "l1.place(relx=0.1,rely=0.2)\n",
    "\n",
    "l2=Label(text=\"Enter Your Second Number:\",font=('Arial',15,'bold'),bd=10,bg=\"pink\", fg=\"black\")\n",
    "l2.place(relx=0.1,rely=0.4)\n",
    "\n",
    "l3=Label(text=\"Arithmetic Operation\",font=('Arial',15,'bold'),bd=10,bg=\"pink\", fg=\"black\")\n",
    "l3.place(relx=0.4,rely=0.0)\n",
    "\n",
    "b1= Button(win,text=\"Add\",font=('Arial',15,'bold'),bd=10,bg=\"green\", fg=\"black\")\n",
    "b2= Button(win,text=\"Mull\", font=('Arial',15,'bold'),bd=10,bg=\"green\", fg=\"black\")\n",
    "\n",
    "b1.place(relx=0.6,rely=0.7)\n",
    "b1.bind(\"<Button>\",B1)\n",
    "b1.bind(\"<Button>\",sum)\n",
    "\n",
    "b2.place(relx=0.4,rely=0.7)\n",
    "b2.bind(\"<Button>\",B2)\n",
    "b2.bind(\"<Button>\",mul)\n",
    "\n",
    "\n",
    "win.mainloop()\n",
    "\n"
   ]
  },
  {
   "cell_type": "code",
   "execution_count": null,
   "id": "68067dc5-2d3c-43b1-804b-ebca58436637",
   "metadata": {},
   "outputs": [],
   "source": []
  },
  {
   "cell_type": "code",
   "execution_count": null,
   "id": "6dc283f1-2fe7-409c-bb73-6cdf7244d24d",
   "metadata": {},
   "outputs": [],
   "source": []
  }
 ],
 "metadata": {
  "kernelspec": {
   "display_name": "Python 3 (ipykernel)",
   "language": "python",
   "name": "python3"
  },
  "language_info": {
   "codemirror_mode": {
    "name": "ipython",
    "version": 3
   },
   "file_extension": ".py",
   "mimetype": "text/x-python",
   "name": "python",
   "nbconvert_exporter": "python",
   "pygments_lexer": "ipython3",
   "version": "3.9.12"
  }
 },
 "nbformat": 4,
 "nbformat_minor": 5
}
